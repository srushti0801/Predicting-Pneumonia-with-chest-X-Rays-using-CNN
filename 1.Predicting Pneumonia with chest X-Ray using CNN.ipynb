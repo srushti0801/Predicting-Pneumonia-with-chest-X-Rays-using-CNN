{
 "cells": [
  {
   "cell_type": "code",
   "execution_count": 4,
   "id": "4e33e885-f338-4c8b-8e63-782967c3843c",
   "metadata": {},
   "outputs": [
    {
     "name": "stdout",
     "output_type": "stream",
     "text": [
      "WARNING:tensorflow:From C:\\Users\\Srushti\\anaconda3\\envs\\tf_env\\lib\\site-packages\\keras\\src\\losses.py:2976: The name tf.losses.sparse_softmax_cross_entropy is deprecated. Please use tf.compat.v1.losses.sparse_softmax_cross_entropy instead.\n",
      "\n"
     ]
    }
   ],
   "source": [
    "import tensorflow as tf\n",
    "from tensorflow.keras.preprocessing.image import ImageDataGenerator\n",
    "import matplotlib.pyplot as plt\n",
    "import seaborn as sns\n",
    "import numpy as np\n",
    "import pandas as pd\n",
    "import warnings  \n",
    "warnings.filterwarnings('ignore')"
   ]
  },
  {
   "cell_type": "code",
   "execution_count": 6,
   "id": "e9c13a45-4ee9-4df7-ac40-2ae7d8ee96c1",
   "metadata": {},
   "outputs": [],
   "source": [
    "loss = tf.keras.losses.SparseCategoricalCrossentropy()\n"
   ]
  },
  {
   "cell_type": "code",
   "execution_count": 11,
   "id": "51c8d15b-b37e-458a-bfc0-4d63227176bb",
   "metadata": {},
   "outputs": [],
   "source": [
    "train_path = 'chest_xray/chest_xray/train/'\n",
    "val_path = 'chest_xray/chest_xray/val/'\n",
    "test_path = 'chest_xray/chest_xray/test/'"
   ]
  },
  {
   "cell_type": "code",
   "execution_count": 12,
   "id": "43fc9f4b-a4c0-4c8c-b466-49e2c3c6dccd",
   "metadata": {},
   "outputs": [
    {
     "name": "stdout",
     "output_type": "stream",
     "text": [
      "Found 5216 images belonging to 2 classes.\n",
      "Found 16 images belonging to 2 classes.\n",
      "Found 626 images belonging to 2 classes.\n"
     ]
    }
   ],
   "source": [
    "train_datagen = ImageDataGenerator(rescale=1./255,\n",
    "                                   zoom_range=0.2,\n",
    "                                   horizontal_flip=True,\n",
    "                                   rotation_range=0.2,\n",
    "                                   shear_range=0.2)\n",
    "test_datagen = ImageDataGenerator(rescale=1./255)\n",
    "\n",
    "train_data = train_datagen.flow_from_directory(train_path,\n",
    "                                               target_size=(32,32),\n",
    "                                               batch_size=15,\n",
    "                                               class_mode='binary')\n",
    "\n",
    "val_data = test_datagen.flow_from_directory(val_path,\n",
    "                                               target_size=(32,32),\n",
    "                                               batch_size=15,\n",
    "                                               class_mode='binary')\n",
    "\n",
    "test_data = test_datagen.flow_from_directory(test_path,\n",
    "                                               target_size=(32,32),\n",
    "                                               batch_size=15,\n",
    "                                               class_mode='binary')"
   ]
  },
  {
   "cell_type": "code",
   "execution_count": 13,
   "id": "c0ae87ff-5f26-4304-a81c-1a68af63e8d8",
   "metadata": {},
   "outputs": [],
   "source": [
    "from tensorflow.keras.models import Sequential\n",
    "from tensorflow.keras.layers import Conv2D, MaxPooling2D, Flatten, Dense, Dropout"
   ]
  },
  {
   "cell_type": "code",
   "execution_count": 14,
   "id": "79584cc7-55e4-4b95-9607-35eef11c6da6",
   "metadata": {},
   "outputs": [
    {
     "name": "stdout",
     "output_type": "stream",
     "text": [
      "WARNING:tensorflow:From C:\\Users\\Srushti\\anaconda3\\envs\\tf_env\\lib\\site-packages\\keras\\src\\backend.py:873: The name tf.get_default_graph is deprecated. Please use tf.compat.v1.get_default_graph instead.\n",
      "\n",
      "WARNING:tensorflow:From C:\\Users\\Srushti\\anaconda3\\envs\\tf_env\\lib\\site-packages\\keras\\src\\layers\\pooling\\max_pooling2d.py:161: The name tf.nn.max_pool is deprecated. Please use tf.nn.max_pool2d instead.\n",
      "\n"
     ]
    }
   ],
   "source": [
    "model = Sequential([\n",
    "    Conv2D(32,(3,3), activation = 'relu' , input_shape=(32,32,3)),\n",
    "    MaxPooling2D(2,2),\n",
    "\n",
    "    Conv2D(64,(3,3), activation = 'relu'), \n",
    "    MaxPooling2D(2,2),\n",
    "\n",
    "    Conv2D(128,(3,3), activation = 'relu'), \n",
    "    MaxPooling2D(2,2),\n",
    "\n",
    "    Flatten(),\n",
    "\n",
    "    Dense(128, activation='relu'),\n",
    "    Dropout(0.5),\n",
    "\n",
    "    Dense(1, activation='sigmoid')\n",
    "])"
   ]
  },
  {
   "cell_type": "code",
   "execution_count": 15,
   "id": "a7bac2ce-98c0-436e-aaed-5942f17e2d7a",
   "metadata": {},
   "outputs": [
    {
     "name": "stdout",
     "output_type": "stream",
     "text": [
      "Model: \"sequential\"\n",
      "_________________________________________________________________\n",
      " Layer (type)                Output Shape              Param #   \n",
      "=================================================================\n",
      " conv2d (Conv2D)             (None, 30, 30, 32)        896       \n",
      "                                                                 \n",
      " max_pooling2d (MaxPooling2  (None, 15, 15, 32)        0         \n",
      " D)                                                              \n",
      "                                                                 \n",
      " conv2d_1 (Conv2D)           (None, 13, 13, 64)        18496     \n",
      "                                                                 \n",
      " max_pooling2d_1 (MaxPoolin  (None, 6, 6, 64)          0         \n",
      " g2D)                                                            \n",
      "                                                                 \n",
      " conv2d_2 (Conv2D)           (None, 4, 4, 128)         73856     \n",
      "                                                                 \n",
      " max_pooling2d_2 (MaxPoolin  (None, 2, 2, 128)         0         \n",
      " g2D)                                                            \n",
      "                                                                 \n",
      " flatten (Flatten)           (None, 512)               0         \n",
      "                                                                 \n",
      " dense (Dense)               (None, 128)               65664     \n",
      "                                                                 \n",
      " dropout (Dropout)           (None, 128)               0         \n",
      "                                                                 \n",
      " dense_1 (Dense)             (None, 1)                 129       \n",
      "                                                                 \n",
      "=================================================================\n",
      "Total params: 159041 (621.25 KB)\n",
      "Trainable params: 159041 (621.25 KB)\n",
      "Non-trainable params: 0 (0.00 Byte)\n",
      "_________________________________________________________________\n"
     ]
    }
   ],
   "source": [
    "model.summary()"
   ]
  },
  {
   "cell_type": "code",
   "execution_count": 16,
   "id": "61a086e6-26c3-47db-bb6f-75b50f129b31",
   "metadata": {},
   "outputs": [],
   "source": [
    "from tensorflow.keras.optimizers import Adam\n",
    "model.compile(optimizer=Adam(learning_rate= 0.001),loss='binary_crossentropy',metrics = ['accuracy'])\n",
    "\n"
   ]
  },
  {
   "cell_type": "code",
   "execution_count": 17,
   "id": "61574be4-8c62-4f7b-9e38-bc17a548e3f2",
   "metadata": {},
   "outputs": [
    {
     "name": "stdout",
     "output_type": "stream",
     "text": [
      "Epoch 1/10\n",
      "WARNING:tensorflow:From C:\\Users\\Srushti\\anaconda3\\envs\\tf_env\\lib\\site-packages\\keras\\src\\utils\\tf_utils.py:492: The name tf.ragged.RaggedTensorValue is deprecated. Please use tf.compat.v1.ragged.RaggedTensorValue instead.\n",
      "\n",
      "WARNING:tensorflow:From C:\\Users\\Srushti\\anaconda3\\envs\\tf_env\\lib\\site-packages\\keras\\src\\engine\\base_layer_utils.py:384: The name tf.executing_eagerly_outside_functions is deprecated. Please use tf.compat.v1.executing_eagerly_outside_functions instead.\n",
      "\n",
      "348/348 [==============================] - 72s 202ms/step - loss: 0.4724 - accuracy: 0.7855 - val_loss: 0.8408 - val_accuracy: 0.6250\n",
      "Epoch 2/10\n",
      "348/348 [==============================] - 83s 237ms/step - loss: 0.2423 - accuracy: 0.8949 - val_loss: 0.3030 - val_accuracy: 0.8750\n",
      "Epoch 3/10\n",
      "348/348 [==============================] - 63s 180ms/step - loss: 0.2112 - accuracy: 0.9139 - val_loss: 0.3332 - val_accuracy: 0.8125\n",
      "Epoch 4/10\n",
      "348/348 [==============================] - 39s 113ms/step - loss: 0.1895 - accuracy: 0.9277 - val_loss: 0.3980 - val_accuracy: 0.7500\n",
      "Epoch 5/10\n",
      "348/348 [==============================] - 39s 111ms/step - loss: 0.1760 - accuracy: 0.9317 - val_loss: 0.4275 - val_accuracy: 0.7500\n",
      "Epoch 6/10\n",
      "348/348 [==============================] - 39s 113ms/step - loss: 0.1656 - accuracy: 0.9356 - val_loss: 0.3128 - val_accuracy: 0.8125\n",
      "Epoch 7/10\n",
      "348/348 [==============================] - 37s 105ms/step - loss: 0.1562 - accuracy: 0.9404 - val_loss: 0.3318 - val_accuracy: 0.8125\n",
      "Epoch 8/10\n",
      "348/348 [==============================] - 40s 114ms/step - loss: 0.1501 - accuracy: 0.9465 - val_loss: 0.3754 - val_accuracy: 0.7500\n",
      "Epoch 9/10\n",
      "348/348 [==============================] - 41s 117ms/step - loss: 0.1393 - accuracy: 0.9480 - val_loss: 0.4419 - val_accuracy: 0.6875\n",
      "Epoch 10/10\n",
      "348/348 [==============================] - 37s 106ms/step - loss: 0.1442 - accuracy: 0.9450 - val_loss: 0.4380 - val_accuracy: 0.7500\n"
     ]
    },
    {
     "data": {
      "text/plain": [
       "<keras.src.callbacks.History at 0x2aab1516f10>"
      ]
     },
     "execution_count": 17,
     "metadata": {},
     "output_type": "execute_result"
    }
   ],
   "source": [
    "model.fit(train_data, validation_data=val_data, verbose=1, epochs=10)"
   ]
  },
  {
   "cell_type": "code",
   "execution_count": 18,
   "id": "6ce0fe18-c7e7-4a10-9e2a-db21be09b8f8",
   "metadata": {},
   "outputs": [
    {
     "name": "stdout",
     "output_type": "stream",
     "text": [
      "42/42 [==============================] - 4s 104ms/step - loss: 0.3497 - accuracy: 0.8866\n",
      "Model Accuracy: 0.8865814805030823\n"
     ]
    }
   ],
   "source": [
    "loss,accuracy=model.evaluate(test_data)\n",
    "print('Model Accuracy:' ,accuracy)"
   ]
  },
  {
   "cell_type": "code",
   "execution_count": 21,
   "id": "790f9568-9006-48fa-9aec-a2b30476f231",
   "metadata": {},
   "outputs": [],
   "source": [
    "from tensorflow.keras.models import load_model"
   ]
  },
  {
   "cell_type": "code",
   "execution_count": 22,
   "id": "5d3d2b89-1073-453a-9afe-bce57ba558e2",
   "metadata": {},
   "outputs": [],
   "source": [
    "model.save('Pneumonia xray.keras')"
   ]
  },
  {
   "cell_type": "code",
   "execution_count": null,
   "id": "216a5f2f-b98f-4552-81f4-d606a80e5456",
   "metadata": {},
   "outputs": [],
   "source": []
  },
  {
   "cell_type": "code",
   "execution_count": null,
   "id": "1481122a-d61c-4a95-b279-1540ee26e39d",
   "metadata": {},
   "outputs": [],
   "source": []
  },
  {
   "cell_type": "code",
   "execution_count": null,
   "id": "0e15b27c-a1b1-4d0d-a276-04d75feabd2d",
   "metadata": {},
   "outputs": [],
   "source": []
  },
  {
   "cell_type": "code",
   "execution_count": null,
   "id": "28e97db2-9858-4605-a64f-0cee42361f4d",
   "metadata": {},
   "outputs": [],
   "source": []
  },
  {
   "cell_type": "code",
   "execution_count": null,
   "id": "07e37c7e-4c56-4f74-b5f8-325c9ee4c686",
   "metadata": {},
   "outputs": [],
   "source": []
  },
  {
   "cell_type": "code",
   "execution_count": null,
   "id": "9ee820e7-96dc-4ecb-a484-818320b6e5c9",
   "metadata": {},
   "outputs": [],
   "source": []
  },
  {
   "cell_type": "code",
   "execution_count": null,
   "id": "b700a181-9e26-4f8a-9af0-fcda26b1773d",
   "metadata": {},
   "outputs": [],
   "source": []
  },
  {
   "cell_type": "code",
   "execution_count": null,
   "id": "7c5f484a-79ce-4dee-aa23-2186d30cd5e2",
   "metadata": {},
   "outputs": [],
   "source": []
  },
  {
   "cell_type": "code",
   "execution_count": null,
   "id": "9dba7988-45e9-4147-9f21-caa74ea717c5",
   "metadata": {},
   "outputs": [],
   "source": []
  },
  {
   "cell_type": "code",
   "execution_count": null,
   "id": "3650f513-df2a-447f-ae2d-620aace69038",
   "metadata": {},
   "outputs": [],
   "source": []
  }
 ],
 "metadata": {
  "kernelspec": {
   "display_name": "Python 3 (ipykernel)",
   "language": "python",
   "name": "python3"
  },
  "language_info": {
   "codemirror_mode": {
    "name": "ipython",
    "version": 3
   },
   "file_extension": ".py",
   "mimetype": "text/x-python",
   "name": "python",
   "nbconvert_exporter": "python",
   "pygments_lexer": "ipython3",
   "version": "3.9.23"
  }
 },
 "nbformat": 4,
 "nbformat_minor": 5
}
